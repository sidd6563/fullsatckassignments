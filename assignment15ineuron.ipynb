{
 "cells": [
  {
   "cell_type": "code",
   "execution_count": 1,
   "id": "987e72c8",
   "metadata": {},
   "outputs": [
    {
     "data": {
      "text/plain": [
       "3600"
      ]
     },
     "execution_count": 1,
     "metadata": {},
     "output_type": "execute_result"
    }
   ],
   "source": [
    "60*60\n"
   ]
  },
  {
   "cell_type": "code",
   "execution_count": 5,
   "id": "88f10ae1",
   "metadata": {},
   "outputs": [
    {
     "name": "stdout",
     "output_type": "stream",
     "text": [
      "86400\n"
     ]
    }
   ],
   "source": [
    "second_per_hour=3600\n",
    "minute_per_hour=60\n",
    "hour_per_day=24\n",
    "second_per_day=hour_per_day*second_per_hour\n",
    "print(second_per_day)"
   ]
  },
  {
   "cell_type": "code",
   "execution_count": 6,
   "id": "10a415d5",
   "metadata": {},
   "outputs": [
    {
     "name": "stdout",
     "output_type": "stream",
     "text": [
      "24.0\n"
     ]
    }
   ],
   "source": [
    "print(second_per_day/second_per_hour)"
   ]
  },
  {
   "cell_type": "code",
   "execution_count": 7,
   "id": "4adbb614",
   "metadata": {},
   "outputs": [
    {
     "name": "stdout",
     "output_type": "stream",
     "text": [
      "24\n"
     ]
    }
   ],
   "source": [
    "print(second_per_day//second_per_hour)"
   ]
  },
  {
   "cell_type": "code",
   "execution_count": 8,
   "id": "82ec25e1",
   "metadata": {},
   "outputs": [],
   "source": [
    "def genPrimes():\n",
    "    primes = [2]\n",
    "    while TRUE:\n",
    "        next= primes[-1]\n",
    "        yield next \n",
    "        nextPrime = primes[-1] +1\n",
    "        count=0\n",
    "        answer=False\n",
    "        while not answer:\n",
    "            for item in primes:\n",
    "                if nextPrime % item !=0:\n",
    "                    count +=1\n",
    "                if count== len(primes):\n",
    "                    primes.append(nextPrime)\n",
    "                    answer=TRUE\n",
    "                else:\n",
    "                    nextPrime+= 1\n",
    "                    count = 0\n",
    "                    \n",
    "                "
   ]
  },
  {
   "cell_type": "code",
   "execution_count": null,
   "id": "e53fa3fd",
   "metadata": {},
   "outputs": [],
   "source": []
  }
 ],
 "metadata": {
  "kernelspec": {
   "display_name": "Python 3",
   "language": "python",
   "name": "python3"
  },
  "language_info": {
   "codemirror_mode": {
    "name": "ipython",
    "version": 3
   },
   "file_extension": ".py",
   "mimetype": "text/x-python",
   "name": "python",
   "nbconvert_exporter": "python",
   "pygments_lexer": "ipython3",
   "version": "3.8.8"
  }
 },
 "nbformat": 4,
 "nbformat_minor": 5
}
