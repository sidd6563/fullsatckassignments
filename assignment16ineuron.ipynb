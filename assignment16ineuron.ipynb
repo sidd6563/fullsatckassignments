{
 "cells": [
  {
   "cell_type": "code",
   "execution_count": 3,
   "id": "42179ede",
   "metadata": {},
   "outputs": [],
   "source": [
    "years_list=[2000,2001,2002,2003,2004,2005]"
   ]
  },
  {
   "cell_type": "code",
   "execution_count": 4,
   "id": "c75ceb5d",
   "metadata": {},
   "outputs": [
    {
     "data": {
      "text/plain": [
       "2003"
      ]
     },
     "execution_count": 4,
     "metadata": {},
     "output_type": "execute_result"
    }
   ],
   "source": [
    "years_list[3]"
   ]
  },
  {
   "cell_type": "code",
   "execution_count": 5,
   "id": "4aea9eec",
   "metadata": {},
   "outputs": [
    {
     "data": {
      "text/plain": [
       "2005"
      ]
     },
     "execution_count": 5,
     "metadata": {},
     "output_type": "execute_result"
    }
   ],
   "source": [
    "years_list[-1]"
   ]
  },
  {
   "cell_type": "code",
   "execution_count": 14,
   "id": "8957064c",
   "metadata": {},
   "outputs": [],
   "source": [
    "things=['mozzarella','cinderella','salmonella']\n"
   ]
  },
  {
   "cell_type": "code",
   "execution_count": 18,
   "id": "bbe8d5b7",
   "metadata": {},
   "outputs": [
    {
     "data": {
      "text/plain": [
       "'Cinderella'"
      ]
     },
     "execution_count": 18,
     "metadata": {},
     "output_type": "execute_result"
    }
   ],
   "source": [
    "things[1].capitalize()"
   ]
  },
  {
   "cell_type": "code",
   "execution_count": 10,
   "id": "e3a79da2",
   "metadata": {},
   "outputs": [
    {
     "data": {
      "text/plain": [
       "['mozzarella', 'cinderella', 'salmonella']"
      ]
     },
     "execution_count": 10,
     "metadata": {},
     "output_type": "execute_result"
    }
   ],
   "source": [
    "things"
   ]
  },
  {
   "cell_type": "code",
   "execution_count": 11,
   "id": "d4033535",
   "metadata": {},
   "outputs": [],
   "source": [
    "#no it doesnt changes the element in the list \n",
    "surprise=['Groucho','Chico','Harpo']"
   ]
  },
  {
   "cell_type": "code",
   "execution_count": 19,
   "id": "50a81a1c",
   "metadata": {},
   "outputs": [
    {
     "data": {
      "text/plain": [
       "'harpo'"
      ]
     },
     "execution_count": 19,
     "metadata": {},
     "output_type": "execute_result"
    }
   ],
   "source": [
    "surprise[-1].lower()"
   ]
  },
  {
   "cell_type": "code",
   "execution_count": 22,
   "id": "0e9ed7ac",
   "metadata": {},
   "outputs": [
    {
     "data": {
      "text/plain": [
       "'opraH'"
      ]
     },
     "execution_count": 22,
     "metadata": {},
     "output_type": "execute_result"
    }
   ],
   "source": [
    "surprise[-1][::-1]"
   ]
  },
  {
   "cell_type": "code",
   "execution_count": 23,
   "id": "0cef5e0b",
   "metadata": {},
   "outputs": [
    {
     "data": {
      "text/plain": [
       "'HARPO'"
      ]
     },
     "execution_count": 23,
     "metadata": {},
     "output_type": "execute_result"
    }
   ],
   "source": [
    "surprise[-1].upper()"
   ]
  },
  {
   "cell_type": "code",
   "execution_count": 26,
   "id": "b4572314",
   "metadata": {},
   "outputs": [],
   "source": [
    "e2f={'dog':'chein','cat':'chat','walrus':'morse'}"
   ]
  },
  {
   "cell_type": "code",
   "execution_count": 27,
   "id": "ec76beac",
   "metadata": {},
   "outputs": [
    {
     "data": {
      "text/plain": [
       "'morse'"
      ]
     },
     "execution_count": 27,
     "metadata": {},
     "output_type": "execute_result"
    }
   ],
   "source": [
    "e2f['walrus']"
   ]
  },
  {
   "cell_type": "code",
   "execution_count": 30,
   "id": "64a06090",
   "metadata": {},
   "outputs": [
    {
     "data": {
      "text/plain": [
       "'walrus'"
      ]
     },
     "execution_count": 30,
     "metadata": {},
     "output_type": "execute_result"
    }
   ],
   "source": [
    "f2e = {}\n",
    "for english,french in e2f.items():\n",
    "    f2e[french]=english\n",
    "f2e['morse']"
   ]
  },
  {
   "cell_type": "code",
   "execution_count": 31,
   "id": "b958f8d4",
   "metadata": {},
   "outputs": [
    {
     "data": {
      "text/plain": [
       "'dog'"
      ]
     },
     "execution_count": 31,
     "metadata": {},
     "output_type": "execute_result"
    }
   ],
   "source": [
    "f2e['chein']"
   ]
  },
  {
   "cell_type": "code",
   "execution_count": 33,
   "id": "b33f19cc",
   "metadata": {},
   "outputs": [],
   "source": [
    "life={'animal':{'cat':['henri','grumpy','lucy'],'octuoi':{},'emus':{}}}"
   ]
  },
  {
   "cell_type": "code",
   "execution_count": 34,
   "id": "77283608",
   "metadata": {},
   "outputs": [
    {
     "data": {
      "text/plain": [
       "{'animal': {'cat': ['henri', 'grumpy', 'lucy'], 'octuoi': {}, 'emus': {}}}"
      ]
     },
     "execution_count": 34,
     "metadata": {},
     "output_type": "execute_result"
    }
   ],
   "source": [
    "life"
   ]
  },
  {
   "cell_type": "code",
   "execution_count": 36,
   "id": "f232027f",
   "metadata": {},
   "outputs": [
    {
     "data": {
      "text/plain": [
       "['henri', 'grumpy', 'lucy']"
      ]
     },
     "execution_count": 36,
     "metadata": {},
     "output_type": "execute_result"
    }
   ],
   "source": [
    "life['animal']['cat']"
   ]
  },
  {
   "cell_type": "code",
   "execution_count": 40,
   "id": "1ce46436",
   "metadata": {},
   "outputs": [
    {
     "data": {
      "text/plain": [
       "dict_keys(['cat', 'octuoi', 'emus'])"
      ]
     },
     "execution_count": 40,
     "metadata": {},
     "output_type": "execute_result"
    }
   ],
   "source": [
    "life['animal'].keys()"
   ]
  },
  {
   "cell_type": "code",
   "execution_count": 41,
   "id": "e452c780",
   "metadata": {},
   "outputs": [
    {
     "data": {
      "text/plain": [
       "dict_keys(['animal'])"
      ]
     },
     "execution_count": 41,
     "metadata": {},
     "output_type": "execute_result"
    }
   ],
   "source": [
    "life.keys()"
   ]
  },
  {
   "cell_type": "code",
   "execution_count": null,
   "id": "0d09d7f9",
   "metadata": {},
   "outputs": [],
   "source": []
  }
 ],
 "metadata": {
  "kernelspec": {
   "display_name": "Python 3",
   "language": "python",
   "name": "python3"
  },
  "language_info": {
   "codemirror_mode": {
    "name": "ipython",
    "version": 3
   },
   "file_extension": ".py",
   "mimetype": "text/x-python",
   "name": "python",
   "nbconvert_exporter": "python",
   "pygments_lexer": "ipython3",
   "version": "3.8.8"
  }
 },
 "nbformat": 4,
 "nbformat_minor": 5
}
